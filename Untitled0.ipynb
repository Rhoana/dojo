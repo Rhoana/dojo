{
 "metadata": {
  "name": "",
  "signature": "sha256:f811fc625a7ce723c171d5490cda4d9b8501943811abe69feb9e028db8bdf7fc"
 },
 "nbformat": 3,
 "nbformat_minor": 0,
 "worksheets": [
  {
   "cells": [
    {
     "cell_type": "code",
     "collapsed": false,
     "input": [
      "data_dir = '/Users/d/Desktop/data/Alyssa/Scan1/021/000001'\n",
      "import os\n"
     ],
     "language": "python",
     "metadata": {},
     "outputs": [],
     "prompt_number": 12
    },
    {
     "cell_type": "code",
     "collapsed": false,
     "input": [
      "level = 0\n",
      "for root, dirs, files in os.walk(data_dir):\n",
      "    if 'image_coordinates.txt' in files:\n",
      "        print level\n",
      "    level += 1\n",
      "    \n",
      "    "
     ],
     "language": "python",
     "metadata": {},
     "outputs": [
      {
       "output_type": "stream",
       "stream": "stdout",
       "text": [
        "0\n"
       ]
      }
     ],
     "prompt_number": 13
    },
    {
     "cell_type": "code",
     "collapsed": false,
     "input": [],
     "language": "python",
     "metadata": {},
     "outputs": []
    }
   ],
   "metadata": {}
  }
 ]
}