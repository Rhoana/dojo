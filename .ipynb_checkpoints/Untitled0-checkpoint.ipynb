{
 "metadata": {
  "name": "",
  "signature": "sha256:75ae90dd9efb8c17f74ffbcf0b84c75bf22ce3964745d68eb6461b00d14cc1b7"
 },
 "nbformat": 3,
 "nbformat_minor": 0,
 "worksheets": []
}