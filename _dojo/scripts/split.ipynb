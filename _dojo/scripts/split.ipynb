{
 "worksheets": [
  {
   "cells": [
    {
     "cell_type": "code",
     "execution_count": null,
     "metadata": {},
     "outputs": [
      {
       "output_type": "stream",
       "stream": "stdout",
       "text": [
        "\n",
        "Welcome to pylab, a matplotlib-based Python environment [backend: module://IPython.zmq.pylab.backend_inline].\n",
        "For more information, type 'help(pylab)'.\n"
       ]
      }
     ],
     "input": [
      "%pylab inline\n",
      "import h5py\n",
      "import os\n",
      "import json\n",
      "import tifffile as tif\n",
      "import numpy as np\n",
      "import mahotas as mh\n",
      "import math\n",
      "import matplotlib.cm as cm\n",
      "from skimage import exposure"
     ],
     "language": "python",
     "prompt_number": 11
    },
    {
     "cell_type": "code",
     "execution_count": null,
     "metadata": {},
     "outputs": [],
     "input": [
      "input = json.loads('{\"name\":\"SPLIT\",\"origin\":\"2mkgC\",\"value\":{\"id\":4641,\"brush_bbox\":[115,160,812,906],\"i_js\":[[158,812],[157,815],[156,817],[156,817],[156,818],[156,818],[156,819],[156,820],[156,821],[156,822],[156,823],[156,823],[156,824],[156,825],[156,825],[156,826],[156,827],[156,827],[156,828],[156,829],[156,829],[156,830],[156,830],[156,830],[156,831],[156,832],[155,833],[155,835],[155,836],[154,837],[154,837],[154,838],[153,838],[153,839],[153,839],[153,840],[153,840],[152,841],[152,842],[152,842],[151,843],[151,843],[149,845],[148,846],[147,847],[147,847],[147,847],[146,848],[146,848],[145,849],[145,850],[144,850],[144,851],[143,852],[143,852],[143,853],[143,853],[142,854],[141,855],[140,856],[139,857],[139,858],[138,859],[137,861],[137,862],[137,863],[137,863],[137,864],[137,865],[137,865],[137,866],[137,866],[137,866],[138,866],[138,866],[138,867],[138,867],[138,869],[138,869],[138,870],[138,870],[138,870],[138,871],[138,871],[138,872],[138,872],[137,873],[137,873],[136,874],[136,874],[136,875],[136,875],[135,875],[135,875],[134,876],[134,876],[133,877],[132,877],[132,878],[132,878],[132,878],[132,879],[132,880],[132,880],[131,881],[131,882],[130,884],[130,884],[130,885],[130,885],[130,886],[130,886],[129,887],[129,887],[129,888],[129,888],[129,889],[129,889],[128,889],[128,890],[127,891],[127,891],[127,892],[127,892],[127,892],[127,893],[127,893],[126,894],[125,895],[125,896],[124,897],[124,897],[124,897],[123,898],[123,899],[122,900],[121,900],[121,900],[121,900],[119,902],[119,902],[118,902],[118,902],[118,902],[118,903],[118,903]],\"z\":0,\"brush_size\":5}}')\n",
      "input = input['value']\n",
      "\n",
      "bbox = input['brush_bbox']\n",
      "brush_size = input['brush_size']\n",
      "i_js = input['i_js']"
     ],
     "language": "python",
     "prompt_number": 12
    },
    {
     "cell_type": "code",
     "execution_count": null,
     "metadata": {},
     "outputs": [],
     "input": [
      "def overlay(grayscale_image, lines):\n",
      "    shape = (grayscale_image.shape[0], grayscale_image.shape[1], 3)\n",
      "    overlay = np.zeros(shape,dtype=np.uint8)\n",
      "    \n",
      "    for c in range(3):\n",
      "        overlay[:,:,c] = grayscale_image\n",
      "        \n",
      "    overlay[lines>0,:] = (255, 0, 0)\n",
      "\n",
      "    return overlay"
     ],
     "language": "python",
     "prompt_number": 13
    },
    {
     "cell_type": "code",
     "execution_count": null,
     "metadata": {},
     "outputs": [],
     "input": [
      "def boundaries(segmentation):\n",
      "    lines = np.zeros(segmentation.shape,dtype=bool)\n",
      "    \n",
      "    for y in range(segmentation.shape[0]-1):\n",
      "        for x in range(segmentation.shape[1]-1):\n",
      "            \n",
      "            # right \n",
      "            if segmentation[y,x] != segmentation[y,x+1]:\n",
      "                lines[y,x] = True\n",
      "                \n",
      "            # down\n",
      "            if segmentation[y,x] != segmentation[y+1,x]:\n",
      "                lines[y,x] = True\n",
      "                \n",
      "    for y in range(1, segmentation.shape[0]):\n",
      "        for x in range(1, segmentation.shape[1]):\n",
      "            \n",
      "            # left \n",
      "            if segmentation[y,x] != segmentation[y,x-1]:\n",
      "                lines[y,x] = True\n",
      "                \n",
      "            # up\n",
      "            if segmentation[y,x] != segmentation[y-1,x]:\n",
      "                lines[y,x] = True                \n",
      "              \n",
      "    return lines"
     ],
     "language": "python",
     "prompt_number": 14
    },
    {
     "cell_type": "code",
     "execution_count": null,
     "metadata": {},
     "outputs": [],
     "input": [
      "# read image\n",
      "tile = tif.imread('/home/s/Documents/split/box.tif')\n",
      "tile = mh.gaussian_filter(tile, 1).astype(np.uint8) # gaussian filter\n",
      "tile = (255 * exposure.equalize_hist(tile)).astype(np.uint8) # enhance contrast\n",
      "\n",
      "# imshow(tile, cmap = cm.Greys_r)"
     ],
     "language": "python",
     "prompt_number": 15
    },
    {
     "cell_type": "code",
     "execution_count": null,
     "metadata": {},
     "outputs": [],
     "input": [
      "# extract brush from image\n",
      "\n",
      "brush_mask = np.zeros((1024,1024),dtype=bool)\n",
      "\n",
      "for c in i_js:\n",
      "    brush_mask[c[1],c[0]] = True\n",
      "    \n",
      "# crop\n",
      "brush_mask = brush_mask[bbox[2]:bbox[3],bbox[0]:bbox[1]]\n",
      "brush_mask = mh.morph.dilate(brush_mask, np.ones((2*brush_size, 2*brush_size)))\n",
      "\n",
      "brush_image = np.copy(tile)\n",
      "brush_image[~brush_mask] = 0\n",
      "\n",
      "# imshow(brush_image, cmap = cm.Greys_r)"
     ],
     "language": "python",
     "prompt_number": 16
    },
    {
     "cell_type": "code",
     "execution_count": null,
     "metadata": {},
     "outputs": [],
     "input": [
      "# compute seeds\n",
      "\n",
      "# compute frame\n",
      "frame = np.zeros(brush_mask.shape,dtype=bool)\n",
      "frame[0,:] = True\n",
      "frame[:,0] = True\n",
      "frame[-1,:] = True\n",
      "frame[:,-1] = True\n",
      "\n",
      "# compute corners \n",
      "corners = np.zeros(brush_mask.shape,dtype=bool)\n",
      "\n",
      "n = brush_size \n",
      "\n",
      "# upper left \n",
      "corners[0:n,0:n] = True\n",
      "\n",
      "# upper right\n",
      "corners[0:n,-n:-1] = True\n",
      "corners[0:n,-1] = True\n",
      "\n",
      "# lower left\n",
      "corners[-n:-1,0:n] = True\n",
      "corners[-1,0:n] = True\n",
      "\n",
      "# lower right\n",
      "corners[-n:-1,-n:-1] = True\n",
      "corners[-1,-n:-1] = True\n",
      "corners[-n:-1,-1] = True\n",
      "corners[-1,-1] = True\n",
      "\n",
      "# dilate non-brush segments\n",
      "outside_brush_mask = np.copy(~brush_mask)\n",
      "outside_brush_mask = mh.morph.dilate(outside_brush_mask, np.ones((brush_size, brush_size)))\n",
      "\n",
      "# compute seeds\n",
      "seed_mask = np.zeros(brush_mask.shape,dtype=bool)\n",
      "seed_mask[outside_brush_mask & brush_mask] = True \n",
      "seed_mask[frame & brush_mask] = True\n",
      "seed_mask[corners] = False\n",
      "\n",
      "# imshow(seed_mask)"
     ],
     "language": "python",
     "prompt_number": 17
    },
    {
     "cell_type": "code",
     "execution_count": null,
     "metadata": {},
     "outputs": [],
     "input": [
      "seeds,_ = mh.label(seed_mask)\n",
      "\n",
      "# remove small regions\n",
      "sizes = mh.labeled.labeled_size(seeds)\n",
      "min_seed_size = 5\n",
      "too_small = np.where(sizes < min_seed_size)\n",
      "seeds = mh.labeled.remove_regions(seeds, too_small).astype(np.uint8)\n",
      "\n",
      "# imshow(overlay(brush_image, seeds))"
     ],
     "language": "python",
     "prompt_number": 18
    },
    {
     "cell_type": "code",
     "execution_count": null,
     "metadata": {},
     "outputs": [],
     "input": [
      "# compute watershed segmentation\n",
      "ws = mh.cwatershed(brush_image.max() - brush_image, seeds)"
     ],
     "language": "python",
     "prompt_number": 19
    },
    {
     "cell_type": "code",
     "execution_count": null,
     "metadata": {},
     "outputs": [
      {
       "output_type": "pyout",
       "prompt_number": 20,
       "text": [
        "<matplotlib.image.AxesImage at 0x409ed10>"
       ],
       "metadata": {}
      },
      {
       "output_type": "display_data",
       "png": "[encoded data removed]",
       "metadata": {}
      }
     ],
     "input": [
      "# display result\n",
      "boundary = boundaries(ws)\n",
      "imshow(overlay(tile,boundary))"
     ],
     "language": "python",
     "prompt_number": 20
    }
   ]
  }
 ],
 "cells": [],
 "metadata": {
  "name": "split"
 },
 "nbformat": 3,
 "nbformat_minor": 0
}