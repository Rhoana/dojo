{
 "cells": [
  {
   "cell_type": "markdown",
   "metadata": {
    "collapsed": false
   },
   "source": [
    "## Exported Slice Data\n",
    "I converted [from HDF5](https://www.getdatajoy.com/learn/Read_and_Write_HDF5_from_Python) [to PNG](https://pythonhosted.org/pypng/ex.html) to vizualze the splice maps. I wanted to make sure I understood how they were stored."
   ]
  },
  {
   "cell_type": "code",
   "execution_count": 1,
   "metadata": {
    "collapsed": false,
    "scrolled": false
   },
   "outputs": [],
   "source": [
    "import h5py as h5\n",
    "import numpy as np\n",
    "import png\n",
    "img = [0,0,0,1]\n",
    "out = 'map.png'\n",
    "class imgurl:\n",
    "    def __init__(self,im_):\n",
    "        self.img = im_\n",
    "    def __getitem__(self, i):\n",
    "        return '%08d' % self.img[i]\n",
    "    def url(self):\n",
    "        return 'w='+self[3]+'/z='+self[2]+'/y='+self[1]+',x='+self[0]\n",
    "img = imgurl(img);\n",
    "fi = h5.File('../temp/ids/tiles/'+img.url()+'.hdf5', 'r')\n",
    "np.set_printoptions(threshold=np.nan)\n",
    "data = np.array(fi.get('dataset_1'))*2\n",
    "w = png.Writer(len(data),len(data),greyscale=1,bitdepth=16)\n",
    "fo = open(out, 'wb')\n",
    "w.write(fo, data)\n",
    "fo.close()"
   ]
  },
  {
   "cell_type": "markdown",
   "metadata": {
    "collapsed": true
   },
   "source": [
    "## Stepped through Python\n",
    "To see how each class sends content, I set breakpoints for the request types. I then print the file name at each request.\n",
    "```\n",
    "ipython\n",
    "%run -d dojo.py ../mojo ../temp 1337 anything\n",
    "b 173;; b 176;; c\n",
    "[open browser]\n",
    "n;; p r.request.uri;; c\n",
    "```\n",
    "\n",
    "To see how the websocket connection works, I set breakpoints at websocket.js:39 and websocket.js:45 as well as:\n",
    "```\n",
    "%run -d dojo.py ../mojo ../temp 1337 anything\n",
    "b _dojo/websockets.py:39;; b _dojo/websockets.py:45;; c\n",
    "[open browser]\n",
    "```\n",
    "#### subclasses:\n",
    "- Datasource\n",
    "    - Segmentation\n",
    "    - Image\n",
    "- Controller\n",
    "- Database"
   ]
  },
  {
   "cell_type": "markdown",
   "metadata": {
    "collapsed": true
   },
   "source": [
    "## Stepped through Javascript\n",
    "- Image and Segmentation data are handled differently in the Datasource because **Datasource.__query** values differ\n",
    "\n",
    "|Function|Called from|\n",
    "|-|-:|\n",
    "|DOJO.init:|index.html:361|\n",
    "|DOJO.viewer.init|**dojo.js:23**|\n",
    "|loader.load_json|**viewer.js:83**|\n",
    "|xhr.open:'/image/contents'|loader.js:19|\n",
    "|*ServerLogic.handle*|**xhr**|:=img[0]|\n",
    "|*Datasource.handle*|*image.py:83*|:=img[1]|\n",
    "|**callback[viewer.js:83]**|*datasource.py:255*|:=img[2]|\n",
    "|||\n",
    "|loader.load_json|**viewer.js:103**|\n",
    "|xhr.open:'/segmentation/contents'|loader.js:19|\n",
    "|*ServerLogic.handle*|**xhr**|:=seg[0]|\n",
    "|*Datasource.handle*|*segmentation.py:230*|:=seg[1]|\n",
    "|**callback[viewer.js:103]**|*datasource.py:255*|:=seg[2]|\n",
    "|||\n",
    "|loader.load_json|**viewer.js:108**|\n",
    "|xhr.open:'/segmentation/colormap'|loader.js:19|\n",
    "|**callback[viewer.js:108]**|**xhr**|=seg[ : ]|\n",
    "|||\n",
    "|viewer.render|viewer.js:128|\n",
    "|websocket.connect|viewer.js:131|\n",
    "|**callback[dojo.js:23]**|viewer.js:133|\n",
    "|||\n",
    "|*Websockets.open*|websocket.js:18|\n",
    "|*Controller.handshake*|*websockets.py:28*|\n",
    "|*Websockets.send*|*controller.py:71*|\n",
    "|**callback[websocket.js:36]**|*websockets.py:45*|\n",
    "|||\n",
    "|controller.receive|websocket.js:39|\n",
    "|controller.send|controller.js:141|\n",
    "|websocket.send|controller.js:529|\n",
    "|*Websockets.on_message*|websocket.js:45|\n",
    "|*Controller.on_message*|*websockets.py:39*|"
   ]
  },
  {
   "cell_type": "markdown",
   "metadata": {
    "collapsed": true
   },
   "source": [
    "- Start\n",
    "    - *Controller.on_message*:212 sends merge table to client\n",
    "    -  controller.receive:121\n",
    "\n",
    "- Merge\n",
    "    - controller.end_draw_merge:1494\n",
    "    - For each link to merge\n",
    "        - controller.merge: ?\n",
    "    - controller.end_draw_merge:1526\n",
    "    - controller.send_merge_table_subset:763\n",
    "    - *Controller.on_message*: 240\n",
    "    - *Controller.send_merge_table_subset*:144\n",
    "    - controller.receive:148\n",
    "        - TODO\n",
    "    \n",
    "- Save\n",
    "    - controller.save:251\n",
    "         - TODO\n",
    " \n",
    " ```\n",
    "%run -d dojo.py ../mojo ../temp 1337 anything\n",
    "b _dojo/controller.py:235;; c\n",
    "[open browser]\n",
    "```\n"
   ]
  },
  {
   "cell_type": "markdown",
   "metadata": {},
   "source": [
    "- Master controller only has a merge function\n",
    "- Performance has start_merge, merge, draw_merge, and end_draw_merge functions"
   ]
  },
  {
   "cell_type": "markdown",
   "metadata": {},
   "source": [
    "#### 2016-03-07\n",
    "- Applying smaller merge table on each merge\n",
    "    - create small pair list for gl_merge_table\n",
    "    - fragment shade for small pair list"
   ]
  },
  {
   "cell_type": "markdown",
   "metadata": {
    "collapsed": true
   },
   "source": [
    "#### 2016-03-13\n",
    "\n",
    "Merge table loaded from database \n",
    "```\n",
    "b _dojo/datasource.py:123\n",
    "b _dojo/database.py:115\n",
    "```"
   ]
  },
  {
   "cell_type": "markdown",
   "metadata": {
    "collapsed": true
   },
   "source": [
    "```\n",
    "python -m pdb dojo.py ../mojo ../temp 1337 anything --nothreading --noreload\n",
    "```"
   ]
  }
 ],
 "metadata": {
  "kernelspec": {
   "display_name": "Python 2",
   "language": "python",
   "name": "python2"
  },
  "language_info": {
   "codemirror_mode": {
    "name": "ipython",
    "version": 2
   },
   "file_extension": ".py",
   "mimetype": "text/x-python",
   "name": "python",
   "nbconvert_exporter": "python",
   "pygments_lexer": "ipython2",
   "version": "2.7.10"
  }
 },
 "nbformat": 4,
 "nbformat_minor": 0
}
